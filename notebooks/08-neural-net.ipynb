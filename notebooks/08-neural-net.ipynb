{
 "cells": [
  {
   "cell_type": "code",
   "execution_count": 1,
   "metadata": {
    "collapsed": true
   },
   "outputs": [
    {
     "name": "stderr",
     "output_type": "stream",
     "text": [
      "/usr/local/lib/python3.7/site-packages/tensorflow/python/framework/dtypes.py:516: FutureWarning: Passing (type, 1) or '1type' as a synonym of type is deprecated; in a future version of numpy, it will be understood as (type, (1,)) / '(1,)type'.\n",
      "  _np_qint8 = np.dtype([(\"qint8\", np.int8, 1)])\n",
      "/usr/local/lib/python3.7/site-packages/tensorflow/python/framework/dtypes.py:517: FutureWarning: Passing (type, 1) or '1type' as a synonym of type is deprecated; in a future version of numpy, it will be understood as (type, (1,)) / '(1,)type'.\n",
      "  _np_quint8 = np.dtype([(\"quint8\", np.uint8, 1)])\n",
      "/usr/local/lib/python3.7/site-packages/tensorflow/python/framework/dtypes.py:518: FutureWarning: Passing (type, 1) or '1type' as a synonym of type is deprecated; in a future version of numpy, it will be understood as (type, (1,)) / '(1,)type'.\n",
      "  _np_qint16 = np.dtype([(\"qint16\", np.int16, 1)])\n",
      "/usr/local/lib/python3.7/site-packages/tensorflow/python/framework/dtypes.py:519: FutureWarning: Passing (type, 1) or '1type' as a synonym of type is deprecated; in a future version of numpy, it will be understood as (type, (1,)) / '(1,)type'.\n",
      "  _np_quint16 = np.dtype([(\"quint16\", np.uint16, 1)])\n",
      "/usr/local/lib/python3.7/site-packages/tensorflow/python/framework/dtypes.py:520: FutureWarning: Passing (type, 1) or '1type' as a synonym of type is deprecated; in a future version of numpy, it will be understood as (type, (1,)) / '(1,)type'.\n",
      "  _np_qint32 = np.dtype([(\"qint32\", np.int32, 1)])\n",
      "/usr/local/lib/python3.7/site-packages/tensorflow/python/framework/dtypes.py:525: FutureWarning: Passing (type, 1) or '1type' as a synonym of type is deprecated; in a future version of numpy, it will be understood as (type, (1,)) / '(1,)type'.\n",
      "  np_resource = np.dtype([(\"resource\", np.ubyte, 1)])\n",
      "/usr/local/lib/python3.7/site-packages/tensorboard/compat/tensorflow_stub/dtypes.py:541: FutureWarning: Passing (type, 1) or '1type' as a synonym of type is deprecated; in a future version of numpy, it will be understood as (type, (1,)) / '(1,)type'.\n",
      "  _np_qint8 = np.dtype([(\"qint8\", np.int8, 1)])\n",
      "/usr/local/lib/python3.7/site-packages/tensorboard/compat/tensorflow_stub/dtypes.py:542: FutureWarning: Passing (type, 1) or '1type' as a synonym of type is deprecated; in a future version of numpy, it will be understood as (type, (1,)) / '(1,)type'.\n",
      "  _np_quint8 = np.dtype([(\"quint8\", np.uint8, 1)])\n",
      "/usr/local/lib/python3.7/site-packages/tensorboard/compat/tensorflow_stub/dtypes.py:543: FutureWarning: Passing (type, 1) or '1type' as a synonym of type is deprecated; in a future version of numpy, it will be understood as (type, (1,)) / '(1,)type'.\n",
      "  _np_qint16 = np.dtype([(\"qint16\", np.int16, 1)])\n",
      "/usr/local/lib/python3.7/site-packages/tensorboard/compat/tensorflow_stub/dtypes.py:544: FutureWarning: Passing (type, 1) or '1type' as a synonym of type is deprecated; in a future version of numpy, it will be understood as (type, (1,)) / '(1,)type'.\n",
      "  _np_quint16 = np.dtype([(\"quint16\", np.uint16, 1)])\n",
      "/usr/local/lib/python3.7/site-packages/tensorboard/compat/tensorflow_stub/dtypes.py:545: FutureWarning: Passing (type, 1) or '1type' as a synonym of type is deprecated; in a future version of numpy, it will be understood as (type, (1,)) / '(1,)type'.\n",
      "  _np_qint32 = np.dtype([(\"qint32\", np.int32, 1)])\n",
      "/usr/local/lib/python3.7/site-packages/tensorboard/compat/tensorflow_stub/dtypes.py:550: FutureWarning: Passing (type, 1) or '1type' as a synonym of type is deprecated; in a future version of numpy, it will be understood as (type, (1,)) / '(1,)type'.\n",
      "  np_resource = np.dtype([(\"resource\", np.ubyte, 1)])\n"
     ]
    }
   ],
   "source": [
    "import numpy as np\n",
    "import tensorflow as tf\n",
    "from tensorflow import keras\n",
    "import matplotlib.pyplot as plt"
   ]
  },
  {
   "cell_type": "code",
   "execution_count": 2,
   "metadata": {},
   "outputs": [],
   "source": [
    "n = 1000\n",
    "p = 10"
   ]
  },
  {
   "cell_type": "code",
   "execution_count": 3,
   "metadata": {},
   "outputs": [],
   "source": [
    "a = np.random.uniform(-1, 1, size=p)\n",
    "b = np.random.uniform(-1, 1)"
   ]
  },
  {
   "cell_type": "code",
   "execution_count": 4,
   "metadata": {},
   "outputs": [],
   "source": [
    "X_train = np.random.uniform(-1, 1, size=[n,p])"
   ]
  },
  {
   "cell_type": "code",
   "execution_count": 5,
   "metadata": {},
   "outputs": [],
   "source": [
    "y_train = X_train @ a + b"
   ]
  },
  {
   "cell_type": "code",
   "execution_count": 6,
   "metadata": {},
   "outputs": [],
   "source": [
    "X_val = np.random.uniform(-1, 1, size=[n,p])\n",
    "y_val = X_val @ a + b"
   ]
  },
  {
   "cell_type": "code",
   "execution_count": 39,
   "metadata": {},
   "outputs": [],
   "source": [
    "model = tf.keras.models.Sequential([tf.keras.layers.Dense(1)])\n",
    "model.compile(optimizer='adam',\n",
    "              loss='mean_squared_error')"
   ]
  },
  {
   "cell_type": "code",
   "execution_count": 40,
   "metadata": {},
   "outputs": [],
   "source": [
    "history = model.fit(X_train, y_train, epochs=100,\n",
    "                    validation_data=(X_val, y_val),\n",
    "                    verbose=0)"
   ]
  },
  {
   "cell_type": "code",
   "execution_count": 41,
   "metadata": {},
   "outputs": [
    {
     "data": {
      "image/png": "[encoded data removed]",
      "text/plain": [
       "<Figure size 432x288 with 1 Axes>"
      ]
     },
     "metadata": {
      "needs_background": "light"
     },
     "output_type": "display_data"
    }
   ],
   "source": [
    "plt.title('Loss / Mean Squared Error')\n",
    "plt.plot(history.history['loss'], label='train')\n",
    "plt.plot(history.history['val_loss'], label='validation')\n",
    "plt.legend()\n",
    "plt.show()"
   ]
  },
  {
   "cell_type": "code",
   "execution_count": 42,
   "metadata": {},
   "outputs": [],
   "source": [
    "X_test = np.random.uniform(-1, 1, size=[100,p])"
   ]
  },
  {
   "cell_type": "code",
   "execution_count": 43,
   "metadata": {},
   "outputs": [],
   "source": [
    "y_test = X_test @ a + b"
   ]
  },
  {
   "cell_type": "code",
   "execution_count": 44,
   "metadata": {},
   "outputs": [],
   "source": [
    "y_pred = model.predict(X_test)"
   ]
  },
  {
   "cell_type": "code",
   "execution_count": 46,
   "metadata": {},
   "outputs": [
    {
     "data": {
      "text/plain": [
       "(100, 1)"
      ]
     },
     "execution_count": 46,
     "metadata": {},
     "output_type": "execute_result"
    }
   ],
   "source": [
    "y_test = np.expand_dims(y_test, 1)\n",
    "y_test.shape"
   ]
  },
  {
   "cell_type": "code",
   "execution_count": 47,
   "metadata": {},
   "outputs": [
    {
     "data": {
      "text/plain": [
       "(100, 1)"
      ]
     },
     "execution_count": 47,
     "metadata": {},
     "output_type": "execute_result"
    }
   ],
   "source": [
    "y_pred.shape"
   ]
  },
  {
   "cell_type": "code",
   "execution_count": 56,
   "metadata": {},
   "outputs": [
    {
     "data": {
      "text/plain": [
       "array([[-0.50896936, -0.50896823],\n",
       "       [-0.26845735, -0.26845413],\n",
       "       [-0.19385513, -0.19385365],\n",
       "       [-0.23182502, -0.23182186],\n",
       "       [ 0.50771935,  0.50772142],\n",
       "       [-0.06021493, -0.06021371],\n",
       "       [ 1.16607602,  1.1660769 ],\n",
       "       [-0.22701978, -0.22702122],\n",
       "       [-0.03616101, -0.03616124],\n",
       "       [ 0.64437372,  0.64437234]])"
      ]
     },
     "execution_count": 56,
     "metadata": {},
     "output_type": "execute_result"
    }
   ],
   "source": [
    "np.concatenate((y_test, y_pred), 1)[:10,]"
   ]
  },
  {
   "cell_type": "code",
   "execution_count": 65,
   "metadata": {},
   "outputs": [
    {
     "data": {
      "text/plain": [
       "5.066380105483504e-12"
      ]
     },
     "execution_count": 65,
     "metadata": {},
     "output_type": "execute_result"
    }
   ],
   "source": [
    "np.mean(np.square(y_test - y_pred))"
   ]
  },
  {
   "cell_type": "code",
   "execution_count": 66,
   "metadata": {},
   "outputs": [
    {
     "data": {
      "text/plain": [
       "[array([[ 0.0755624 , -0.19649526, -0.08420025,  0.05360355, -0.13078284,\n",
       "         -0.00626426,  0.5289172 , -0.13577022, -0.44473812,  0.19909728],\n",
       "        [ 0.06999829, -0.20720465,  0.28426597,  0.3228246 , -0.37236446,\n",
       "          0.2200746 , -0.22411543, -0.39537972,  0.5071268 ,  0.38537276],\n",
       "        [ 0.4103126 ,  0.37574086,  0.05392407,  0.38348672,  0.23931132,\n",
       "         -0.45019817,  0.27898604, -0.3401315 , -0.358707  ,  0.08629857],\n",
       "        [-0.1557469 ,  0.09085017, -0.19270335,  0.32548305,  0.3339433 ,\n",
       "          0.39403048,  0.2031733 ,  0.5868338 , -0.01506352,  0.55497116],\n",
       "        [-0.14669055, -0.28292862,  0.32311833,  0.441202  ,  0.11847988,\n",
       "         -0.3767533 , -0.19504637,  0.46063784, -0.16689537, -0.51741236],\n",
       "        [ 0.1912873 , -0.0388038 , -0.5048898 ,  0.28641778,  0.43631446,\n",
       "          0.05650569,  0.4144382 , -0.21880668,  0.5033603 , -0.28622445],\n",
       "        [ 0.49944353, -0.1646556 ,  0.09227861, -0.15859479,  0.24585597,\n",
       "          0.09996003, -0.18697284,  0.40232295,  0.2581274 , -0.2447568 ],\n",
       "        [-0.41137624,  0.04183983,  0.30931696, -0.12359692,  0.20157439,\n",
       "          0.59902084,  0.20321883, -0.02445298, -0.4002339 ,  0.3390949 ],\n",
       "        [ 0.20385554,  0.59520984, -0.2340324 , -0.5508731 ,  0.04788181,\n",
       "          0.2694164 , -0.1670375 , -0.24391001, -0.33595148, -0.10182398],\n",
       "        [-0.00570607, -0.22666939,  0.21389173,  0.09912659, -0.63645107,\n",
       "          0.9984585 , -0.23235074, -0.05621479, -0.03458806, -0.35221845]],\n",
       "       dtype=float32),\n",
       " array([-0.05133949, -0.04991133, -0.04648682,  0.05271989, -0.03461536,\n",
       "        -0.06598937, -0.05067983, -0.05100703,  0.0527174 , -0.04340477],\n",
       "       dtype=float32),\n",
       " array([[-0.5897314 ],\n",
       "        [-0.28156212],\n",
       "        [-0.08751752],\n",
       "        [ 0.66250277],\n",
       "        [ 0.16019781],\n",
       "        [-0.44994247],\n",
       "        [-0.3402216 ],\n",
       "        [-0.4048805 ],\n",
       "        [ 0.6754867 ],\n",
       "        [ 0.09279627]], dtype=float32),\n",
       " array([0.05325943], dtype=float32)]"
      ]
     },
     "execution_count": 66,
     "metadata": {},
     "output_type": "execute_result"
    }
   ],
   "source": [
    "model.get_weights()"
   ]
  },
  {
   "cell_type": "code",
   "execution_count": 67,
   "metadata": {},
   "outputs": [
    {
     "data": {
      "text/plain": [
       "(array([-0.37140451,  0.66203099, -0.04902464, -0.09042429,  0.33779273,\n",
       "         0.43757148, -0.31454427, -0.4134909 , -0.82662838, -0.39130536]),\n",
       " 0.23020690127502008)"
      ]
     },
     "execution_count": 67,
     "metadata": {},
     "output_type": "execute_result"
    }
   ],
   "source": [
    "a, b"
   ]
  },
  {
   "cell_type": "code",
   "execution_count": 68,
   "metadata": {},
   "outputs": [],
   "source": [
    "model = tf.keras.models.Sequential([tf.keras.layers.Dense(10),\n",
    "                                    tf.keras.layers.Dense(1)])\n",
    "model.compile(optimizer='adam',\n",
    "              loss='mean_squared_error')"
   ]
  },
  {
   "cell_type": "code",
   "execution_count": 69,
   "metadata": {},
   "outputs": [],
   "source": [
    "history = model.fit(X_train, y_train, epochs=100,\n",
    "                    validation_data=(X_val, y_val),\n",
    "                    verbose=0)"
   ]
  },
  {
   "cell_type": "code",
   "execution_count": 70,
   "metadata": {},
   "outputs": [
    {
     "data": {
      "image/png": "[encoded data removed]",
      "text/plain": [
       "<Figure size 432x288 with 1 Axes>"
      ]
     },
     "metadata": {
      "needs_background": "light"
     },
     "output_type": "display_data"
    }
   ],
   "source": [
    "plt.title('Loss / Mean Squared Error')\n",
    "plt.plot(history.history['loss'], label='train')\n",
    "plt.plot(history.history['val_loss'], label='validation')\n",
    "plt.legend()\n",
    "plt.show()"
   ]
  },
  {
   "cell_type": "code",
   "execution_count": 71,
   "metadata": {},
   "outputs": [
    {
     "data": {
      "text/plain": [
       "[array([[-0.31124288,  0.00922446, -0.12112161, -0.54975104, -0.48719963,\n",
       "         -0.29397002,  0.16575547, -0.0170136 , -0.15865424, -0.4848343 ],\n",
       "        [ 0.3188533 ,  0.3026826 ,  0.7082759 , -0.01032369,  0.37984946,\n",
       "         -0.28123656,  0.5384347 , -0.00248654, -0.25259453,  0.55733585],\n",
       "        [-0.29298052, -0.25925186, -0.4884459 , -0.5253641 , -0.0737456 ,\n",
       "         -0.1534456 ,  0.38381138, -0.03438829,  0.31727916,  0.00358875],\n",
       "        [-0.21604449,  0.15803787,  0.26005647, -0.4511298 , -0.00473895,\n",
       "         -0.49627748, -0.18810262, -0.1746498 , -0.52234554,  0.14940496],\n",
       "        [-0.5459306 , -0.2976903 , -0.04616802, -0.27303886, -0.28176716,\n",
       "         -0.08415782,  0.11929165,  0.34667292, -0.12029877,  0.24676628],\n",
       "        [ 0.348583  ,  0.00083738,  0.2126092 , -0.35670337,  0.36104307,\n",
       "          0.30136922,  0.22625615,  0.2899568 ,  0.15365496,  0.68482906],\n",
       "        [-0.22495294,  0.24128313, -0.2091904 , -0.39017755,  0.12820512,\n",
       "          0.46429893,  0.23064049,  0.5469287 , -0.1543995 , -0.09431621],\n",
       "        [ 0.21143134, -0.12735552,  0.01973093,  0.13740072, -0.02742588,\n",
       "         -0.36481503, -0.03698613, -0.14006002, -0.71529806, -0.23399566],\n",
       "        [-0.06637763, -0.28840357, -0.57338995,  0.11575795,  0.30401313,\n",
       "         -0.45947486, -0.20375392, -0.24419427, -0.45527458, -0.3103947 ],\n",
       "        [ 0.10815608, -0.00239901, -0.08160057,  0.27362454, -0.25705504,\n",
       "         -0.39467686, -0.02954712,  0.16481264, -0.05505684, -0.00231471]],\n",
       "       dtype=float32),\n",
       " array([-0.03914974, -0.03916111,  0.0416185 ,  0.03777143, -0.03654882,\n",
       "         0.04202535,  0.04189309, -0.03911604,  0.04250944,  0.04306912],\n",
       "       dtype=float32),\n",
       " array([[-0.55274427],\n",
       "        [-0.56728727],\n",
       "        [ 0.9510344 ],\n",
       "        [ 0.1784145 ],\n",
       "        [-0.08325559],\n",
       "        [ 0.5288974 ],\n",
       "        [ 0.4893902 ],\n",
       "        [-0.542639  ],\n",
       "        [ 0.21044663],\n",
       "        [ 0.55066264]], dtype=float32),\n",
       " array([0.04037147], dtype=float32)]"
      ]
     },
     "execution_count": 71,
     "metadata": {},
     "output_type": "execute_result"
    }
   ],
   "source": [
    "model.get_weights()"
   ]
  },
  {
   "cell_type": "code",
   "execution_count": null,
   "metadata": {},
   "outputs": [],
   "source": []
  },
  {
   "cell_type": "code",
   "execution_count": null,
   "metadata": {},
   "outputs": [],
   "source": []
  }
 ],
 "metadata": {
  "kernelspec": {
   "display_name": "Python 3",
   "language": "python",
   "name": "python3"
  },
  "language_info": {
   "codemirror_mode": {
    "name": "ipython",
    "version": 3
   },
   "file_extension": ".py",
   "mimetype": "text/x-python",
   "name": "python",
   "nbconvert_exporter": "python",
   "pygments_lexer": "ipython3",
   "version": "3.7.4"
  }
 },
 "nbformat": 4,
 "nbformat_minor": 2
}
