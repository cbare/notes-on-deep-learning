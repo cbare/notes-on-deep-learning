{
 "cells": [
  {
   "cell_type": "code",
   "execution_count": 1,
   "id": "370f4632",
   "metadata": {},
   "outputs": [],
   "source": [
    "import numpy as np\n",
    "import matplotlib.pyplot as plt"
   ]
  },
  {
   "cell_type": "code",
   "execution_count": 2,
   "id": "2d1b33ea",
   "metadata": {},
   "outputs": [],
   "source": [
    "from numpy import dot\n",
    "from numpy.linalg import norm"
   ]
  },
  {
   "cell_type": "code",
   "execution_count": 3,
   "id": "51c8fcec",
   "metadata": {},
   "outputs": [],
   "source": [
    "from matplotlib import cm\n",
    "from matplotlib.colors import Normalize"
   ]
  },
  {
   "cell_type": "code",
   "execution_count": 4,
   "id": "06fe66e0",
   "metadata": {},
   "outputs": [],
   "source": [
    "import io\n",
    "from zipfile import ZipFile"
   ]
  },
  {
   "cell_type": "markdown",
   "id": "59ca5a2b",
   "metadata": {},
   "source": [
    "## Read in pretrained word vectors\n",
    "\n",
    "“wiki-news-300d-1M-subword.vec.zip: 1 million word vectors trained with subword infomation on Wikipedia 2017, UMBC webbase corpus and statmt.org news dataset (16B tokens).”\n",
    "\n",
    "Downloaded from https://fasttext.cc/"
   ]
  },
  {
   "cell_type": "code",
   "execution_count": 5,
   "id": "5e712035",
   "metadata": {},
   "outputs": [],
   "source": [
    "word_vector_zip = \"../data/wiki-news-300d-1M-subword.vec.zip\""
   ]
  },
  {
   "cell_type": "code",
   "execution_count": 6,
   "id": "125982f9",
   "metadata": {},
   "outputs": [
    {
     "data": {
      "text/plain": [
       "['wiki-news-300d-1M-subword.vec']"
      ]
     },
     "execution_count": 6,
     "metadata": {},
     "output_type": "execute_result"
    }
   ],
   "source": [
    "zf = ZipFile(word_vector_zip)\n",
    "zf.namelist()"
   ]
  },
  {
   "cell_type": "markdown",
   "id": "454036f6",
   "metadata": {},
   "source": [
    "We'll read word vectors into a numpy ndarray and index into the array using a dict called `keys` where `keys[token]` is the row index of the word vector for `token`."
   ]
  },
  {
   "cell_type": "code",
   "execution_count": 7,
   "id": "ac6e46c0",
   "metadata": {},
   "outputs": [
    {
     "name": "stdout",
     "output_type": "stream",
     "text": [
      "(999994, 300)\n",
      "CPU times: user 2min 9s, sys: 1.44 s, total: 2min 11s\n",
      "Wall time: 2min 11s\n"
     ]
    }
   ],
   "source": [
    "%%time\n",
    "\n",
    "with ZipFile(word_vector_zip) as zf:\n",
    "    with io.TextIOWrapper(zf.open('wiki-news-300d-1M-subword.vec'), encoding=\"utf-8\") as f:\n",
    "        n, d = map(int, f.readline().split())\n",
    "        word_vecs = np.empty((n,d))\n",
    "        keys = {}\n",
    "        for i, line in enumerate(f):\n",
    "            k, v = line.rstrip().split(\" \", 1)\n",
    "            for j, el in enumerate(v.split(\" \")):\n",
    "                word_vecs[i,j] = el\n",
    "                keys[k] = i\n",
    "\n",
    "print(word_vecs.shape)"
   ]
  },
  {
   "cell_type": "markdown",
   "id": "b0427184",
   "metadata": {},
   "source": [
    "## Similarity\n",
    "\n",
    "Compare words and (to some extent) whole sentences by cosine similarity."
   ]
  },
  {
   "cell_type": "code",
   "execution_count": 9,
   "id": "d2e2d835",
   "metadata": {},
   "outputs": [],
   "source": [
    "def sentence_to_vec(sentence):\n",
    "    return sum(word_vecs[keys[token], :] for token in sentence.split(\" \"))"
   ]
  },
  {
   "cell_type": "code",
   "execution_count": 10,
   "id": "3ffd47ec",
   "metadata": {},
   "outputs": [],
   "source": [
    "def cosine_similarity(a, b):\n",
    "    return dot(a, b)/(norm(a)*norm(b))"
   ]
  },
  {
   "cell_type": "code",
   "execution_count": 11,
   "id": "75946661",
   "metadata": {},
   "outputs": [],
   "source": [
    "def word_similarity(a, b):\n",
    "    return cosine_similarity(word_vecs[keys[a],:], word_vecs[keys[b],:])"
   ]
  },
  {
   "cell_type": "code",
   "execution_count": 12,
   "id": "d877e6c5",
   "metadata": {},
   "outputs": [],
   "source": [
    "def sentence_similarity(a, b):\n",
    "    return cosine_similarity(sentence_to_vec(a), sentence_to_vec(b))"
   ]
  },
  {
   "cell_type": "code",
   "execution_count": 13,
   "id": "d0e4cb04",
   "metadata": {},
   "outputs": [
    {
     "data": {
      "text/plain": [
       "0.9477107693452849"
      ]
     },
     "execution_count": 13,
     "metadata": {},
     "output_type": "execute_result"
    }
   ],
   "source": [
    "sentence_similarity(\"I like chocolate ice cream\", \"I like chocolate chip mint ice cream\")"
   ]
  },
  {
   "cell_type": "code",
   "execution_count": 14,
   "id": "89c3fcba",
   "metadata": {},
   "outputs": [
    {
     "data": {
      "text/plain": [
       "0.5146442787243557"
      ]
     },
     "execution_count": 14,
     "metadata": {},
     "output_type": "execute_result"
    }
   ],
   "source": [
    "sentence_similarity(\"I like chocolate ice cream\", \"The cat ate my ice cream\")"
   ]
  },
  {
   "cell_type": "markdown",
   "id": "537d8c0d",
   "metadata": {},
   "source": [
    "These were the two least similar sentences I could think of. I was surprised their cosine similarity was as high as it is."
   ]
  },
  {
   "cell_type": "code",
   "execution_count": 15,
   "id": "f5a2be42",
   "metadata": {},
   "outputs": [
    {
     "data": {
      "text/plain": [
       "0.4648821481672841"
      ]
     },
     "execution_count": 15,
     "metadata": {},
     "output_type": "execute_result"
    }
   ],
   "source": [
    "sentence_similarity(\n",
    "    \"I like chocolate ice cream\",\n",
    "    \"The long barbed steel goblets were lifted and to cries and maledictions against the white whale the spirits were simultaneously quaffed down with a hiss\"\n",
    ")"
   ]
  },
  {
   "cell_type": "code",
   "execution_count": 16,
   "id": "459b85fe",
   "metadata": {},
   "outputs": [
    {
     "data": {
      "text/plain": [
       "0.3248329082621558"
      ]
     },
     "execution_count": 16,
     "metadata": {},
     "output_type": "execute_result"
    }
   ],
   "source": [
    "sentence_similarity(\n",
    "    \"I like chocolate ice cream\",\n",
    "    \"White whales lifted steal goblets\"\n",
    ")"
   ]
  },
  {
   "cell_type": "code",
   "execution_count": 17,
   "id": "2f84cd1c",
   "metadata": {},
   "outputs": [
    {
     "data": {
      "text/plain": [
       "0.8197941007772409"
      ]
     },
     "execution_count": 17,
     "metadata": {},
     "output_type": "execute_result"
    }
   ],
   "source": [
    "word_similarity(\"run\", \"running\")"
   ]
  },
  {
   "cell_type": "markdown",
   "id": "9da33bfe",
   "metadata": {},
   "source": [
    "## Gender bias\n",
    "\n",
    "Inspired by the paper “Exploring and Mitigating Gender Bias in GloVe Word Embeddings” by M.F. Vera (2018) we plot gender alignment of some words chosen to show that baked into word vectors, we can find influence of stereotypes."
   ]
  },
  {
   "cell_type": "code",
   "execution_count": 18,
   "id": "acf7d21e",
   "metadata": {},
   "outputs": [],
   "source": [
    "def maleness(token):\n",
    "    return sum(word_similarity(w, token) for w in ('he', 'him', 'man', 'male')) / 4"
   ]
  },
  {
   "cell_type": "code",
   "execution_count": 19,
   "id": "e0bdd3ab",
   "metadata": {},
   "outputs": [],
   "source": [
    "def femaleness(token):\n",
    "    return sum(word_similarity(w, token) for w in ('she', 'her', 'woman', 'female')) / 4"
   ]
  },
  {
   "cell_type": "code",
   "execution_count": 20,
   "id": "51c6fd4a",
   "metadata": {},
   "outputs": [],
   "source": [
    "def gender(token):\n",
    "    return sum(word_similarity(w, token) for w in ('he', 'him', 'man', 'male')) \\\n",
    "         / sum(word_similarity(w, token) for w in ('she', 'her', 'woman', 'female'))"
   ]
  },
  {
   "cell_type": "code",
   "execution_count": 21,
   "id": "eec5b77e",
   "metadata": {},
   "outputs": [
    {
     "data": {
      "text/plain": [
       "1.0564742224791321"
      ]
     },
     "execution_count": 21,
     "metadata": {},
     "output_type": "execute_result"
    }
   ],
   "source": [
    "sum(gender(w) for w in keys) / len(word_vecs)"
   ]
  },
  {
   "cell_type": "code",
   "execution_count": 22,
   "id": "f269df9c",
   "metadata": {},
   "outputs": [],
   "source": [
    "words = [\n",
    "    'boss', 'leader', 'follower', 'captain', 'nanny', 'hairdresser', 'stylist', 'receptionist', 'librarian', 'model',\n",
    "    'nurse', 'doctor', 'scientist', 'researcher', 'assistant', 'programmer', 'developer', 'engineer', 'designer', 'bossy',\n",
    "    'actor', 'actress', 'king', 'queen', 'aunt', 'uncle'\n",
    "]"
   ]
  },
  {
   "cell_type": "code",
   "execution_count": 23,
   "id": "df88ece5",
   "metadata": {},
   "outputs": [],
   "source": [
    "x = np.array([maleness(w) for w in words])\n",
    "y = np.array([femaleness(w) for w in words])"
   ]
  },
  {
   "cell_type": "code",
   "execution_count": 24,
   "id": "e485a1fe",
   "metadata": {},
   "outputs": [
    {
     "data": {
      "text/plain": [
       "((26,), (26,))"
      ]
     },
     "execution_count": 24,
     "metadata": {},
     "output_type": "execute_result"
    }
   ],
   "source": [
    "x.shape, y.shape"
   ]
  },
  {
   "cell_type": "code",
   "execution_count": 25,
   "id": "6addd1f3",
   "metadata": {},
   "outputs": [
    {
     "data": {
      "text/plain": [
       "(0.8427840581789612, 1.33992047361783)"
      ]
     },
     "execution_count": 25,
     "metadata": {},
     "output_type": "execute_result"
    }
   ],
   "source": [
    "np.min(y/x), np.max(y/x)"
   ]
  },
  {
   "cell_type": "code",
   "execution_count": 26,
   "id": "4aa1e288",
   "metadata": {},
   "outputs": [],
   "source": [
    "cmap = cm.get_cmap('cool', 20)\n",
    "cmap_norm = Normalize(vmin=0.5,vmax=1.5)"
   ]
  },
  {
   "cell_type": "code",
   "execution_count": 27,
   "id": "2b9a020f",
   "metadata": {},
   "outputs": [
    {
     "data": {
      "image/png": "[encoded data removed]",
      "text/plain": [
       "<Figure size 864x648 with 1 Axes>"
      ]
     },
     "metadata": {
      "needs_background": "light"
     },
     "output_type": "display_data"
    }
   ],
   "source": [
    "plt.figure(figsize=(12,9))\n",
    "plt.scatter(x,y, color=[cmap(cmap_norm(yi/xi)) for xi,yi in zip(x,y)], s=100)\n",
    "plt.axline((0.3, 0.3), (0.51, 0.51), color=cmap(cmap_norm(1)))\n",
    "plt.xlabel(\"maleness\")\n",
    "plt.ylabel(\"femaleness\")\n",
    "plt.title(\"Male/Female alignment of FastText word vectors\", fontsize=15)\n",
    "for i, label in enumerate(words):\n",
    "    plt.annotate(label, (x[i], y[i]))\n",
    "\n",
    "plt.show()"
   ]
  },
  {
   "cell_type": "markdown",
   "id": "41b95615",
   "metadata": {},
   "source": [
    "## Using the fastText library\n",
    "\n",
    "The code above loses one of the main benefits of fastText which is the ability to compute vectors for OOV words using subword n-grams. This helps with new words, rare forms of words, and misspellings."
   ]
  },
  {
   "cell_type": "markdown",
   "id": "f24daa8e",
   "metadata": {},
   "source": [
    "Pretrained models can be downloaded from: https://fasttext.cc/docs/en/crawl-vectors.html. Be warned that these files are quite big. The following fat boy clocks in at almost 7GB.\n",
    "\n",
    "`curl -O https://dl.fbaipublicfiles.com/fasttext/vectors-crawl/cc.en.300.bin.gz`\n",
    "\n",
    "...or, if you've got even more bandwidth to burn:\n",
    "\n",
    "`curl -O https://dl.fbaipublicfiles.com/fasttext/vectors-wiki/wiki.en.zip`"
   ]
  },
  {
   "cell_type": "code",
   "execution_count": 28,
   "id": "a3a0829c",
   "metadata": {},
   "outputs": [],
   "source": [
    "import fasttext"
   ]
  },
  {
   "cell_type": "code",
   "execution_count": 29,
   "id": "63f031cc",
   "metadata": {},
   "outputs": [
    {
     "name": "stdout",
     "output_type": "stream",
     "text": [
      "CPU times: user 12min 55s, sys: 2min 12s, total: 15min 8s\n",
      "Wall time: 18min 41s\n"
     ]
    },
    {
     "name": "stderr",
     "output_type": "stream",
     "text": [
      "Warning : `load_model` does not return WordVectorModel or SupervisedModel any more, but a `FastText` object which is very similar.\n"
     ]
    }
   ],
   "source": [
    "%%time\n",
    "\n",
    "fasttext_model = fasttext.load_model(\"../data/cc.en.300.bin\")"
   ]
  },
  {
   "cell_type": "code",
   "execution_count": 30,
   "id": "fb710432",
   "metadata": {},
   "outputs": [],
   "source": [
    "def word_similarity(a, b):\n",
    "    return cosine_similarity(fasttext_model[a], fasttext_model[b])"
   ]
  },
  {
   "cell_type": "code",
   "execution_count": 31,
   "id": "f5a8a1c7",
   "metadata": {},
   "outputs": [],
   "source": [
    "def sentence_to_vec(sentence):\n",
    "    return sum(fasttext_model[token] for token in sentence.split(\" \"))"
   ]
  },
  {
   "cell_type": "code",
   "execution_count": 32,
   "id": "278d257e",
   "metadata": {},
   "outputs": [
    {
     "data": {
      "text/plain": [
       "0.6222972"
      ]
     },
     "execution_count": 32,
     "metadata": {},
     "output_type": "execute_result"
    }
   ],
   "source": [
    "word_similarity('hello', 'goodbye')"
   ]
  },
  {
   "cell_type": "code",
   "execution_count": 33,
   "id": "d78e4e79",
   "metadata": {},
   "outputs": [
    {
     "data": {
      "text/plain": [
       "0.034254625"
      ]
     },
     "execution_count": 33,
     "metadata": {},
     "output_type": "execute_result"
    }
   ],
   "source": [
    "word_similarity('hello', 'preflopulated')"
   ]
  },
  {
   "cell_type": "code",
   "execution_count": 34,
   "id": "076bfe9b",
   "metadata": {},
   "outputs": [
    {
     "data": {
      "text/plain": [
       "0.6778126"
      ]
     },
     "execution_count": 34,
     "metadata": {},
     "output_type": "execute_result"
    }
   ],
   "source": [
    "word_similarity('organization', 'organisation')"
   ]
  },
  {
   "cell_type": "code",
   "execution_count": 35,
   "id": "aec732fb",
   "metadata": {},
   "outputs": [
    {
     "data": {
      "text/plain": [
       "0.88368255"
      ]
     },
     "execution_count": 35,
     "metadata": {},
     "output_type": "execute_result"
    }
   ],
   "source": [
    "word_similarity('adaptor', 'adapter')"
   ]
  },
  {
   "cell_type": "code",
   "execution_count": 36,
   "id": "a468e444",
   "metadata": {},
   "outputs": [
    {
     "data": {
      "text/plain": [
       "0.04939993"
      ]
     },
     "execution_count": 36,
     "metadata": {},
     "output_type": "execute_result"
    }
   ],
   "source": [
    "word_similarity('pizza', 'flugelhorn')"
   ]
  },
  {
   "cell_type": "code",
   "execution_count": 38,
   "id": "20d21ac1",
   "metadata": {},
   "outputs": [],
   "source": [
    "x = np.array([maleness(w) for w in words])\n",
    "y = np.array([femaleness(w) for w in words])"
   ]
  },
  {
   "cell_type": "code",
   "execution_count": 40,
   "id": "3e46bfef",
   "metadata": {},
   "outputs": [
    {
     "data": {
      "image/png": "[encoded data removed]",
      "text/plain": [
       "<Figure size 864x648 with 1 Axes>"
      ]
     },
     "metadata": {
      "needs_background": "light"
     },
     "output_type": "display_data"
    }
   ],
   "source": [
    "plt.figure(figsize=(12,9))\n",
    "plt.scatter(x,y, color=[cmap(cmap_norm(yi/xi)) for xi,yi in zip(x,y)], s=100)\n",
    "plt.axline((0.3, 0.3), (0.4, 0.4), color=cmap(cmap_norm(1)))\n",
    "plt.xlabel(\"maleness\")\n",
    "plt.ylabel(\"femaleness\")\n",
    "plt.title(\"Male/Female alignment of FastText word vectors\", fontsize=15)\n",
    "for i, label in enumerate(words):\n",
    "    plt.annotate(label, (x[i], y[i]))\n",
    "\n",
    "plt.show()"
   ]
  },
  {
   "cell_type": "code",
   "execution_count": null,
   "id": "4be72f98",
   "metadata": {},
   "outputs": [],
   "source": []
  }
 ],
 "metadata": {
  "kernelspec": {
   "display_name": "Python 3 (ipykernel)",
   "language": "python",
   "name": "python3"
  },
  "language_info": {
   "codemirror_mode": {
    "name": "ipython",
    "version": 3
   },
   "file_extension": ".py",
   "mimetype": "text/x-python",
   "name": "python",
   "nbconvert_exporter": "python",
   "pygments_lexer": "ipython3",
   "version": "3.9.5"
  }
 },
 "nbformat": 4,
 "nbformat_minor": 5
}
