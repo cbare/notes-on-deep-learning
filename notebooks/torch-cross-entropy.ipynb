{
  "cells": [
    {
      "cell_type": "markdown",
      "source": [
        "# Understanding Cross Entroy Loss in Pytorch\r\n",
        "\r\n",
        "[Cross entropy loss][1] is defined as $-{(y\\log(p) + (1 - y)\\log(1 - p))}$ where $y$ is the target and $p$ is the predicted value. Andrew Ng's machine-learning course (Lecture 6.4 Logistic Regression Cost Function) explains it well and can still be found, unofficially.\r\n",
        "\r\n",
        "I was trying to get Pytorch to compute per-pixel cross entropy loss for training an image segmentation task with [UNet][2]. I managed to get very confused, so let's sort it out.\r\n",
        "\r\n",
        "[1]: https://ml-cheatsheet.readthedocs.io/en/latest/loss_functions.html#cross-entropy\r\n",
        "[2]: https://www.youtube.com/watch?v=u1loyDCoGbE"
      ],
      "metadata": {
        "nteract": {
          "transient": {
            "deleting": false
          }
        }
      }
    },
    {
      "cell_type": "code",
      "source": [
        "import torch"
      ],
      "outputs": [],
      "execution_count": 1,
      "metadata": {
        "jupyter": {
          "source_hidden": false,
          "outputs_hidden": false
        },
        "nteract": {
          "transient": {
            "deleting": false
          }
        },
        "gather": {
          "logged": 1645783852085
        }
      }
    },
    {
      "cell_type": "markdown",
      "source": [
        "## The wrong way\r\n",
        "\r\n",
        "Let's say my the classes of my pixels on a 10x10 image are all zeros. I guess all ones. Can't get much more wrong than that. And, my loss is..."
      ],
      "metadata": {
        "nteract": {
          "transient": {
            "deleting": false
          }
        }
      }
    },
    {
      "cell_type": "code",
      "source": [
        "y = torch.zeros((10,10))\r\n",
        "p = torch.ones((10,10), dtype=torch.float32)\r\n",
        "\r\n",
        "loss = torch.nn.CrossEntropyLoss()\r\n",
        "loss(p, y)"
      ],
      "outputs": [
        {
          "output_type": "execute_result",
          "execution_count": 2,
          "data": {
            "text/plain": "tensor(-0.)"
          },
          "metadata": {}
        }
      ],
      "execution_count": 2,
      "metadata": {
        "jupyter": {
          "source_hidden": false,
          "outputs_hidden": false
        },
        "nteract": {
          "transient": {
            "deleting": false
          }
        },
        "gather": {
          "logged": 1645783852260
        }
      }
    },
    {
      "cell_type": "markdown",
      "source": [
        "Zero? Seems a bit off. OK, let's say the truth is all ones and I guess all ones. Should be perfect."
      ],
      "metadata": {
        "nteract": {
          "transient": {
            "deleting": false
          }
        }
      }
    },
    {
      "cell_type": "code",
      "source": [
        "y = torch.ones((10,10))\r\n",
        "p = torch.ones((10,10), dtype=torch.float32)\r\n",
        "\r\n",
        "loss = torch.nn.CrossEntropyLoss()\r\n",
        "loss(p, y)"
      ],
      "outputs": [
        {
          "output_type": "execute_result",
          "execution_count": 3,
          "data": {
            "text/plain": "tensor(23.0259)"
          },
          "metadata": {}
        }
      ],
      "execution_count": 3,
      "metadata": {
        "jupyter": {
          "source_hidden": false,
          "outputs_hidden": false
        },
        "nteract": {
          "transient": {
            "deleting": false
          }
        },
        "gather": {
          "logged": 1645783852415
        }
      }
    },
    {
      "cell_type": "markdown",
      "source": [
        "Now you're pissing me off."
      ],
      "metadata": {
        "nteract": {
          "transient": {
            "deleting": false
          }
        }
      }
    },
    {
      "cell_type": "markdown",
      "source": [
        "## BCE loss\r\n",
        "\r\n",
        "Well, to cut to the punch line, what I want here is [BCELoss][3] (binary cross entropy loss), as opposed to [CrossEntropyLoss][4] which is really **multiclass** cross entropy loss.\r\n",
        "\r\n",
        "[3]: https://pytorch.org/docs/stable/generated/torch.nn.BCELoss.html\r\n",
        "[4]: https://pytorch.org/docs/stable/generated/torch.nn.CrossEntropyLoss.html"
      ],
      "metadata": {
        "nteract": {
          "transient": {
            "deleting": false
          }
        }
      }
    },
    {
      "cell_type": "code",
      "source": [
        "y = torch.ones((10,10))\r\n",
        "p = torch.ones((10,10), dtype=torch.float32)\r\n",
        "\r\n",
        "loss = torch.nn.BCELoss()\r\n",
        "loss(p, y)"
      ],
      "outputs": [
        {
          "output_type": "execute_result",
          "execution_count": 4,
          "data": {
            "text/plain": "tensor(0.)"
          },
          "metadata": {}
        }
      ],
      "execution_count": 4,
      "metadata": {
        "jupyter": {
          "source_hidden": false,
          "outputs_hidden": false
        },
        "nteract": {
          "transient": {
            "deleting": false
          }
        },
        "gather": {
          "logged": 1645783852553
        }
      }
    },
    {
      "cell_type": "code",
      "source": [
        "y = torch.zeros((10,10))\r\n",
        "p = torch.ones((10,10), dtype=torch.float32)\r\n",
        "\r\n",
        "loss = torch.nn.BCELoss()\r\n",
        "loss(p, y)"
      ],
      "outputs": [
        {
          "output_type": "execute_result",
          "execution_count": 5,
          "data": {
            "text/plain": "tensor(100.)"
          },
          "metadata": {}
        }
      ],
      "execution_count": 5,
      "metadata": {
        "jupyter": {
          "source_hidden": false,
          "outputs_hidden": false
        },
        "nteract": {
          "transient": {
            "deleting": false
          }
        },
        "gather": {
          "logged": 1645783852680
        }
      }
    },
    {
      "cell_type": "markdown",
      "source": [
        "OK, sanity restored. Why 100, by the way? “BCELoss clamps its log function outputs to be greater than or equal to -100. This way, we can always have a finite loss value and a linear backward method.”"
      ],
      "metadata": {
        "nteract": {
          "transient": {
            "deleting": false
          }
        }
      }
    },
    {
      "cell_type": "markdown",
      "source": [
        "## Working it out\r\n",
        "\r\n",
        "OK, but let's make sure we understand what's going on. Maybe, I've forgotten how cross entropy works. Let's implement $-{(y\\log(p) + (1 - y)\\log(1 - p))}$. Since taking log of zero is annoyingly undefined, we'll try to approximate Pytorch's clamping behaviour using an epsilon that we'll set at $e^{-100}$."
      ],
      "metadata": {
        "nteract": {
          "transient": {
            "deleting": false
          }
        }
      }
    },
    {
      "cell_type": "code",
      "source": [
        "def cross_entropy(pred, target, epsilon=torch.exp(torch.tensor([-100]))):\r\n",
        "    return - target * torch.log(pred.clip(min=epsilon)) - (1-target) * torch.log((1-pred).clip(min=epsilon))"
      ],
      "outputs": [],
      "execution_count": 6,
      "metadata": {
        "jupyter": {
          "source_hidden": false,
          "outputs_hidden": false
        },
        "nteract": {
          "transient": {
            "deleting": false
          }
        },
        "gather": {
          "logged": 1645783852801
        }
      }
    },
    {
      "cell_type": "code",
      "source": [
        "pred = torch.tensor([0, 1, 0, 1, 0.2, 0.5, 0.8, 0.9])\r\n",
        "target = torch.tensor([0, 0, 1, 1, 1,   1,   1,   1  ])\r\n",
        "loss = cross_entropy( pred, target )\r\n",
        "\r\n",
        "print(\", \".join(f\"{x:0.4f}\" for x in loss))"
      ],
      "outputs": [
        {
          "output_type": "stream",
          "name": "stdout",
          "text": "-0.0000, 99.9831, 99.9831, 0.0000, 1.6094, 0.6931, 0.2231, 0.1054\n"
        }
      ],
      "execution_count": 7,
      "metadata": {
        "jupyter": {
          "source_hidden": false,
          "outputs_hidden": false
        },
        "nteract": {
          "transient": {
            "deleting": false
          }
        },
        "gather": {
          "logged": 1645783852886
        }
      }
    },
    {
      "cell_type": "markdown",
      "source": [
        "This seems right. High values when we're wrong. Low values when we're close. Zero when we got it right.\r\n",
        "\r\n",
        "But, a pixel's worth a thousand element vector. Let's draw."
      ],
      "metadata": {
        "nteract": {
          "transient": {
            "deleting": false
          }
        }
      }
    },
    {
      "cell_type": "code",
      "source": [
        "%matplotlib inline\r\n",
        "from matplotlib import pyplot as plt\r\n",
        "\r\n",
        "x = torch.linspace(0.01, 0.99, 99)\r\n",
        "y = cross_entropy(x, torch.ones((99)))\r\n",
        "plt.plot(x,y)\r\n",
        "\r\n",
        "y = cross_entropy(x, torch.zeros((99)))\r\n",
        "plt.plot(x,y)\r\n",
        "\r\n",
        "plt.xlabel(\"pred\")\r\n",
        "plt.ylabel(\"loss\")\r\n",
        "plt.legend([\"y=1\", \"y=0\"])\r\n",
        "plt.title(\"Cross Entropy Loss\")\r\n",
        "plt.show()"
      ],
      "outputs": [
        {
          "output_type": "display_data",
          "data": {
            "text/plain": "<Figure size 432x288 with 1 Axes>",
            "image/png": "[encoded data removed]"
          },
          "metadata": {
            "needs_background": "light"
          }
        }
      ],
      "execution_count": 8,
      "metadata": {
        "jupyter": {
          "source_hidden": false,
          "outputs_hidden": false
        },
        "nteract": {
          "transient": {
            "deleting": false
          }
        },
        "gather": {
          "logged": 1645783853177
        }
      }
    },
    {
      "cell_type": "markdown",
      "source": [
        "## CrossEntropyLoss\r\n",
        "\r\n",
        "So, let's try to do that with torch's CrossEntropyLoss. The shapes it wants are:\r\n",
        "\r\n",
        "$\\text{pred:} (b, C, d_1, d_2, ..., d_k)$ where b=minibatch size, C is the number of classes, and elements are unnormalized scores.\r\n",
        "\r\n",
        "$\\text{target:} (b, d_1, d_2, ..., d_k)$ where the elements are integers in \\[0, (C-1)\\].\r\n"
      ],
      "metadata": {
        "nteract": {
          "transient": {
            "deleting": false
          }
        }
      }
    },
    {
      "cell_type": "code",
      "source": [
        "loss = torch.nn.CrossEntropyLoss(reduction=\"none\")\r\n",
        "\r\n",
        "pred =  torch.tensor([[1,0], [0,1], [1,0], [0,1], [0.8, 0.2], [0.5,0.5], [0.2,0.8], [0.1,0.9]], dtype=torch.float32)\r\n",
        "label = torch.tensor([ 0,     0,       1,     1,        1,         1,         1,         1   ], dtype=torch.long)\r\n",
        "\r\n",
        "loss = loss(pred, label)\r\n",
        "loss"
      ],
      "outputs": [
        {
          "output_type": "execute_result",
          "execution_count": 9,
          "data": {
            "text/plain": "tensor([0.3133, 1.3133, 1.3133, 0.3133, 1.0375, 0.6931, 0.4375, 0.3711])"
          },
          "metadata": {}
        }
      ],
      "execution_count": 9,
      "metadata": {
        "jupyter": {
          "source_hidden": false,
          "outputs_hidden": false
        },
        "nteract": {
          "transient": {
            "deleting": false
          }
        },
        "gather": {
          "logged": 1645783853329
        }
      }
    },
    {
      "cell_type": "markdown",
      "source": [
        "I wasn't expecting the unnormalized part, so that threw me a bit. I realized, what it's doing isn't this:"
      ],
      "metadata": {
        "nteract": {
          "transient": {
            "deleting": false
          }
        }
      }
    },
    {
      "cell_type": "code",
      "source": [
        "pred = torch.tensor([0, 1, 0, 1, 0.2, 0.5, 0.8, 0.9])\r\n",
        "target = torch.tensor([0, 0, 1, 1, 1,   1,   1,   1  ])\r\n",
        "loss = cross_entropy( pred, target )\r\n",
        "\r\n",
        "print(\", \".join(f\"{x:0.4f}\" for x in loss))"
      ],
      "outputs": [
        {
          "output_type": "stream",
          "name": "stdout",
          "text": "-0.0000, 99.9831, 99.9831, 0.0000, 1.6094, 0.6931, 0.2231, 0.1054\n"
        }
      ],
      "execution_count": 10,
      "metadata": {
        "jupyter": {
          "source_hidden": false,
          "outputs_hidden": false
        },
        "nteract": {
          "transient": {
            "deleting": false
          }
        },
        "gather": {
          "logged": 1645783853468
        }
      }
    },
    {
      "cell_type": "markdown",
      "source": [
        "Torch is doing some kind of rescaling and then squashing with a sigmoid function."
      ],
      "metadata": {
        "nteract": {
          "transient": {
            "deleting": false
          }
        }
      }
    },
    {
      "cell_type": "code",
      "source": [
        "def sigmoid(x):\r\n",
        "    return 1/(1+torch.exp(-x))"
      ],
      "outputs": [],
      "execution_count": 11,
      "metadata": {
        "jupyter": {
          "source_hidden": false,
          "outputs_hidden": false
        },
        "nteract": {
          "transient": {
            "deleting": false
          }
        },
        "gather": {
          "logged": 1645783853607
        }
      }
    },
    {
      "cell_type": "code",
      "source": [
        "%matplotlib inline\r\n",
        "from matplotlib import pyplot as plt\r\n",
        "\r\n",
        "x = torch.linspace(-10, 10, 500)\r\n",
        "y = sigmoid(x)\r\n",
        "plt.plot(x,y)\r\n",
        "plt.title(\"Sigmoid\")\r\n",
        "plt.show()"
      ],
      "outputs": [
        {
          "output_type": "display_data",
          "data": {
            "text/plain": "<Figure size 432x288 with 1 Axes>",
            "image/png": "[encoded data removed]"
          },
          "metadata": {
            "needs_background": "light"
          }
        }
      ],
      "execution_count": 12,
      "metadata": {
        "jupyter": {
          "source_hidden": false,
          "outputs_hidden": false
        },
        "nteract": {
          "transient": {
            "deleting": false
          }
        },
        "gather": {
          "logged": 1645783853764
        }
      }
    },
    {
      "cell_type": "code",
      "source": [
        "def center(x, center_at=0):\r\n",
        "    return x - (x.max()-x.min())/2 + center_at"
      ],
      "outputs": [],
      "execution_count": 13,
      "metadata": {
        "jupyter": {
          "source_hidden": false,
          "outputs_hidden": false
        },
        "nteract": {
          "transient": {
            "deleting": false
          }
        },
        "gather": {
          "logged": 1645783853946
        }
      }
    },
    {
      "cell_type": "code",
      "source": [
        "def rescale(x, lo=-1, hi=1):\r\n",
        "    return (x-x.min()) / (x.max()-x.min()) * (hi-lo) + lo"
      ],
      "outputs": [],
      "execution_count": 14,
      "metadata": {
        "jupyter": {
          "source_hidden": false,
          "outputs_hidden": false
        },
        "nteract": {
          "transient": {
            "deleting": false
          }
        },
        "gather": {
          "logged": 1645783854150
        }
      }
    },
    {
      "cell_type": "code",
      "source": [
        "pred = torch.tensor([0, 1, 0, 1, 0.2, 0.5, 0.8, 0.9])\r\n",
        "target = torch.tensor([0, 0, 1, 1, 1,   1,   1,   1  ])\r\n",
        "loss = cross_entropy(sigmoid(rescale(pred)), target )\r\n",
        "print(\", \".join(f\"{x:0.4f}\" for x in loss))"
      ],
      "outputs": [
        {
          "output_type": "stream",
          "name": "stdout",
          "text": "0.3133, 1.3133, 1.3133, 0.3133, 1.0375, 0.6931, 0.4375, 0.3711\n"
        }
      ],
      "execution_count": 15,
      "metadata": {
        "jupyter": {
          "source_hidden": false,
          "outputs_hidden": false
        },
        "nteract": {
          "transient": {
            "deleting": false
          }
        },
        "gather": {
          "logged": 1645783854246
        }
      }
    },
    {
      "cell_type": "code",
      "source": [
        "loss = torch.nn.CrossEntropyLoss(reduction=\"none\")\r\n",
        "\r\n",
        "pred =  torch.tensor([[1,0], [0,1], [1,0], [0,1], [0.8, 0.2], [0.5,0.5], [0.2,0.8], [0.1,0.9]], dtype=torch.float32)\r\n",
        "label = torch.tensor([ 0,     0,       1,     1,        1,         1,         1,         1   ], dtype=torch.long)\r\n",
        "\r\n",
        "loss = loss(pred, label)\r\n",
        "loss"
      ],
      "outputs": [
        {
          "output_type": "execute_result",
          "execution_count": 16,
          "data": {
            "text/plain": "tensor([0.3133, 1.3133, 1.3133, 0.3133, 1.0375, 0.6931, 0.4375, 0.3711])"
          },
          "metadata": {}
        }
      ],
      "execution_count": 16,
      "metadata": {
        "jupyter": {
          "source_hidden": false,
          "outputs_hidden": false
        },
        "nteract": {
          "transient": {
            "deleting": false
          }
        },
        "gather": {
          "logged": 1645783854390
        }
      }
    },
    {
      "cell_type": "code",
      "source": [
        "pred = torch.tensor([0, 1, 0, 1, 0.2, 0.5, 0.8, 0.9])*10\r\n",
        "target = torch.tensor([0, 0, 1, 1, 1,   1,   1,   1  ])\r\n",
        "loss = cross_entropy(sigmoid(rescale(pred, lo=-10, hi=10)), target )\r\n",
        "print(\", \".join(f\"{x:0.4f}\" for x in loss))"
      ],
      "outputs": [
        {
          "output_type": "stream",
          "name": "stdout",
          "text": "0.0000, 9.9996, 10.0000, 0.0000, 6.0025, 0.6931, 0.0025, 0.0003\n"
        }
      ],
      "execution_count": 17,
      "metadata": {
        "jupyter": {
          "source_hidden": false,
          "outputs_hidden": false
        },
        "nteract": {
          "transient": {
            "deleting": false
          }
        },
        "gather": {
          "logged": 1645783854501
        }
      }
    },
    {
      "cell_type": "code",
      "source": [
        "loss = torch.nn.CrossEntropyLoss(reduction=\"none\")\r\n",
        "\r\n",
        "pred =  torch.tensor([[1,0], [0,1], [1,0], [0,1], [0.8, 0.2], [0.5,0.5], [0.2,0.8], [0.1,0.9]], dtype=torch.float32)*10\r\n",
        "label = torch.tensor([ 0,     0,       1,     1,        1,         1,         1,         1   ], dtype=torch.long)\r\n",
        "\r\n",
        "loss = loss(pred, label)\r\n",
        "loss"
      ],
      "outputs": [
        {
          "output_type": "execute_result",
          "execution_count": 18,
          "data": {
            "text/plain": "tensor([4.5418e-05, 1.0000e+01, 1.0000e+01, 4.5418e-05, 6.0025e+00, 6.9315e-01,\n        2.4757e-03, 3.3540e-04])"
          },
          "metadata": {}
        }
      ],
      "execution_count": 18,
      "metadata": {
        "jupyter": {
          "source_hidden": false,
          "outputs_hidden": false
        },
        "nteract": {
          "transient": {
            "deleting": false
          }
        },
        "gather": {
          "logged": 1645783854620
        }
      }
    },
    {
      "cell_type": "markdown",
      "source": [
        "## Per-pixel cross-entropy loss\r\n",
        "\r\n",
        "Knowing all that, can we make the original per-pixel case work using multiclass CrossEntropyLoss?"
      ],
      "metadata": {
        "nteract": {
          "transient": {
            "deleting": false
          }
        }
      }
    },
    {
      "cell_type": "code",
      "source": [
        "y = torch.ones((10,10), dtype=torch.long).unsqueeze(0)\r\n",
        "print(y.shape)\r\n",
        "p = torch.stack((\r\n",
        "        torch.zeros((10,10), dtype=torch.float32),\r\n",
        "        torch.ones((10,10), dtype=torch.float32)*40\r\n",
        ")).unsqueeze(0)\r\n",
        "print(p.shape)\r\n",
        "\r\n",
        "loss = torch.nn.CrossEntropyLoss()\r\n",
        "loss(p, y)"
      ],
      "outputs": [
        {
          "output_type": "stream",
          "name": "stdout",
          "text": "torch.Size([1, 10, 10])\ntorch.Size([1, 2, 10, 10])\n"
        },
        {
          "output_type": "execute_result",
          "execution_count": 19,
          "data": {
            "text/plain": "tensor(0.)"
          },
          "metadata": {}
        }
      ],
      "execution_count": 19,
      "metadata": {
        "jupyter": {
          "source_hidden": false,
          "outputs_hidden": false
        },
        "nteract": {
          "transient": {
            "deleting": false
          }
        },
        "gather": {
          "logged": 1645783854759
        }
      }
    },
    {
      "cell_type": "code",
      "source": [
        "y = torch.zeros((10,10), dtype=torch.long).unsqueeze(0)\r\n",
        "print(f\"{y.shape=}\")\r\n",
        "\r\n",
        "p = torch.stack((\r\n",
        "        torch.zeros((10,10), dtype=torch.float32),\r\n",
        "        torch.ones((10,10), dtype=torch.float32)*10\r\n",
        ")).unsqueeze(0)\r\n",
        "print(f\"{p.shape=}\")\r\n",
        "\r\n",
        "loss = torch.nn.CrossEntropyLoss()\r\n",
        "loss(p, y)"
      ],
      "outputs": [
        {
          "output_type": "stream",
          "name": "stdout",
          "text": "y.shape=torch.Size([1, 10, 10])\np.shape=torch.Size([1, 2, 10, 10])\n"
        },
        {
          "output_type": "execute_result",
          "execution_count": 20,
          "data": {
            "text/plain": "tensor(10.0000)"
          },
          "metadata": {}
        }
      ],
      "execution_count": 20,
      "metadata": {
        "jupyter": {
          "source_hidden": false,
          "outputs_hidden": false
        },
        "nteract": {
          "transient": {
            "deleting": false
          }
        },
        "gather": {
          "logged": 1645783854910
        }
      }
    }
  ],
  "metadata": {
    "kernelspec": {
      "name": "azureml_py38_pt_tf",
      "language": "python",
      "display_name": "Python 3.8 - Pytorch and Tensorflow"
    },
    "language_info": {
      "name": "python",
      "version": "3.8.1",
      "mimetype": "text/x-python",
      "codemirror_mode": {
        "name": "ipython",
        "version": 3
      },
      "pygments_lexer": "ipython3",
      "nbconvert_exporter": "python",
      "file_extension": ".py"
    },
    "kernel_info": {
      "name": "azureml_py38_pt_tf"
    },
    "microsoft": {
      "host": {
        "AzureML": {
          "notebookHasBeenCompleted": true
        }
      }
    },
    "nteract": {
      "version": "nteract-front-end@1.0.0"
    }
  },
  "nbformat": 4,
  "nbformat_minor": 2
}